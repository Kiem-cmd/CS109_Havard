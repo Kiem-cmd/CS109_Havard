{
 "cells": [
  {
   "cell_type": "markdown",
   "metadata": {},
   "source": [
    "### Data Science Process "
   ]
  },
  {
   "cell_type": "markdown",
   "metadata": {},
   "source": [
    "#### Description:\n",
    "Mục đích của bài tập này để hiểu các bước liên quan đến môi trường Data Science"
   ]
  },
  {
   "cell_type": "markdown",
   "metadata": {},
   "source": [
    "#### Data Description \n",
    "Bộ dữ liệu các chuyến đi xe đạp công cộng - gồm 185 trạm với 1750 chiếc xe.\n",
    "Bộ dữ liệu gồm các bảng và các feature sau: \n",
    "    \n",
    "    * Station:\n",
    "        * ID: ID của xe đạp \n",
    "        * Terminal: \n",
    "        * Station: \n",
    "        * Municipal\n",
    "        * lat: \n",
    "        * lng: \n",
    "        * status: \n",
    "\n",
    "    * Trips: \n",
    "        * Unnamed: 0 \n",
    "        * hubway_id: \n",
    "        * duration: \n",
    "        * start_date:\n",
    "        * strt_statn: \n",
    "        * end_date:\n",
    "        * end_statn: \n",
    "        * zip_code: \n",
    "        * birth_date:\n",
    "        * gender: \n",
    "\n",
    "        "
   ]
  },
  {
   "cell_type": "code",
   "execution_count": 2,
   "metadata": {},
   "outputs": [],
   "source": [
    "import numpy as np \n",
    "import pandas as pd \n",
    "import seaborn as sns \n",
    "import matplotlib.pyplot as plt \n",
    "from math import radians, cos, sin, asin, sqrt \n"
   ]
  },
  {
   "cell_type": "markdown",
   "metadata": {},
   "source": [
    "#### Read data "
   ]
  },
  {
   "cell_type": "code",
   "execution_count": 5,
   "metadata": {},
   "outputs": [],
   "source": [
    "stations = pd.read_csv(\"data/hubway_stations.csv\")\n",
    "trips = pd.read_csv(\"data/hubway_trips.csv\")"
   ]
  },
  {
   "cell_type": "code",
   "execution_count": 7,
   "metadata": {},
   "outputs": [
    {
     "data": {
      "text/html": [
       "<div>\n",
       "<style scoped>\n",
       "    .dataframe tbody tr th:only-of-type {\n",
       "        vertical-align: middle;\n",
       "    }\n",
       "\n",
       "    .dataframe tbody tr th {\n",
       "        vertical-align: top;\n",
       "    }\n",
       "\n",
       "    .dataframe thead th {\n",
       "        text-align: right;\n",
       "    }\n",
       "</style>\n",
       "<table border=\"1\" class=\"dataframe\">\n",
       "  <thead>\n",
       "    <tr style=\"text-align: right;\">\n",
       "      <th></th>\n",
       "      <th>id</th>\n",
       "      <th>terminal</th>\n",
       "      <th>station</th>\n",
       "      <th>municipal</th>\n",
       "      <th>lat</th>\n",
       "      <th>lng</th>\n",
       "      <th>status</th>\n",
       "    </tr>\n",
       "  </thead>\n",
       "  <tbody>\n",
       "    <tr>\n",
       "      <th>0</th>\n",
       "      <td>3</td>\n",
       "      <td>B32006</td>\n",
       "      <td>Colleges of the Fenway</td>\n",
       "      <td>Boston</td>\n",
       "      <td>42.340021</td>\n",
       "      <td>-71.100812</td>\n",
       "      <td>Existing</td>\n",
       "    </tr>\n",
       "    <tr>\n",
       "      <th>1</th>\n",
       "      <td>4</td>\n",
       "      <td>C32000</td>\n",
       "      <td>Tremont St. at Berkeley St.</td>\n",
       "      <td>Boston</td>\n",
       "      <td>42.345392</td>\n",
       "      <td>-71.069616</td>\n",
       "      <td>Existing</td>\n",
       "    </tr>\n",
       "    <tr>\n",
       "      <th>2</th>\n",
       "      <td>5</td>\n",
       "      <td>B32012</td>\n",
       "      <td>Northeastern U / North Parking Lot</td>\n",
       "      <td>Boston</td>\n",
       "      <td>42.341814</td>\n",
       "      <td>-71.090179</td>\n",
       "      <td>Existing</td>\n",
       "    </tr>\n",
       "    <tr>\n",
       "      <th>3</th>\n",
       "      <td>6</td>\n",
       "      <td>D32000</td>\n",
       "      <td>Cambridge St. at Joy St.</td>\n",
       "      <td>Boston</td>\n",
       "      <td>42.361285</td>\n",
       "      <td>-71.065140</td>\n",
       "      <td>Existing</td>\n",
       "    </tr>\n",
       "    <tr>\n",
       "      <th>4</th>\n",
       "      <td>7</td>\n",
       "      <td>A32000</td>\n",
       "      <td>Fan Pier</td>\n",
       "      <td>Boston</td>\n",
       "      <td>42.353412</td>\n",
       "      <td>-71.044624</td>\n",
       "      <td>Existing</td>\n",
       "    </tr>\n",
       "  </tbody>\n",
       "</table>\n",
       "</div>"
      ],
      "text/plain": [
       "   id terminal                             station municipal        lat  \\\n",
       "0   3   B32006              Colleges of the Fenway    Boston  42.340021   \n",
       "1   4   C32000         Tremont St. at Berkeley St.    Boston  42.345392   \n",
       "2   5   B32012  Northeastern U / North Parking Lot    Boston  42.341814   \n",
       "3   6   D32000            Cambridge St. at Joy St.    Boston  42.361285   \n",
       "4   7   A32000                            Fan Pier    Boston  42.353412   \n",
       "\n",
       "         lng    status  \n",
       "0 -71.100812  Existing  \n",
       "1 -71.069616  Existing  \n",
       "2 -71.090179  Existing  \n",
       "3 -71.065140  Existing  \n",
       "4 -71.044624  Existing  "
      ]
     },
     "execution_count": 7,
     "metadata": {},
     "output_type": "execute_result"
    }
   ],
   "source": [
    "stations.head(5)"
   ]
  },
  {
   "cell_type": "code",
   "execution_count": 8,
   "metadata": {},
   "outputs": [
    {
     "data": {
      "text/html": [
       "<div>\n",
       "<style scoped>\n",
       "    .dataframe tbody tr th:only-of-type {\n",
       "        vertical-align: middle;\n",
       "    }\n",
       "\n",
       "    .dataframe tbody tr th {\n",
       "        vertical-align: top;\n",
       "    }\n",
       "\n",
       "    .dataframe thead th {\n",
       "        text-align: right;\n",
       "    }\n",
       "</style>\n",
       "<table border=\"1\" class=\"dataframe\">\n",
       "  <thead>\n",
       "    <tr style=\"text-align: right;\">\n",
       "      <th></th>\n",
       "      <th>Unnamed: 0</th>\n",
       "      <th>hubway_id</th>\n",
       "      <th>duration</th>\n",
       "      <th>start_date</th>\n",
       "      <th>strt_statn</th>\n",
       "      <th>end_date</th>\n",
       "      <th>end_statn</th>\n",
       "      <th>zip_code</th>\n",
       "      <th>birth_date</th>\n",
       "      <th>gender</th>\n",
       "    </tr>\n",
       "  </thead>\n",
       "  <tbody>\n",
       "    <tr>\n",
       "      <th>0</th>\n",
       "      <td>426015</td>\n",
       "      <td>482077</td>\n",
       "      <td>675</td>\n",
       "      <td>8/18/2012 19:48:00</td>\n",
       "      <td>8.0</td>\n",
       "      <td>8/18/2012 20:00:00</td>\n",
       "      <td>8.0</td>\n",
       "      <td>'02134</td>\n",
       "      <td>1983.0</td>\n",
       "      <td>Male</td>\n",
       "    </tr>\n",
       "    <tr>\n",
       "      <th>1</th>\n",
       "      <td>193080</td>\n",
       "      <td>220612</td>\n",
       "      <td>204</td>\n",
       "      <td>4/26/2012 18:14:00</td>\n",
       "      <td>31.0</td>\n",
       "      <td>4/26/2012 18:17:00</td>\n",
       "      <td>64.0</td>\n",
       "      <td>'02210</td>\n",
       "      <td>1953.0</td>\n",
       "      <td>Male</td>\n",
       "    </tr>\n",
       "    <tr>\n",
       "      <th>2</th>\n",
       "      <td>530051</td>\n",
       "      <td>598721</td>\n",
       "      <td>888</td>\n",
       "      <td>9/23/2012 09:26:00</td>\n",
       "      <td>39.0</td>\n",
       "      <td>9/23/2012 09:41:00</td>\n",
       "      <td>39.0</td>\n",
       "      <td>'02118</td>\n",
       "      <td>1985.0</td>\n",
       "      <td>Male</td>\n",
       "    </tr>\n",
       "    <tr>\n",
       "      <th>3</th>\n",
       "      <td>484594</td>\n",
       "      <td>547645</td>\n",
       "      <td>526</td>\n",
       "      <td>9/8/2012 12:55:00</td>\n",
       "      <td>88.0</td>\n",
       "      <td>9/8/2012 13:04:00</td>\n",
       "      <td>72.0</td>\n",
       "      <td>'02139</td>\n",
       "      <td>1985.0</td>\n",
       "      <td>Male</td>\n",
       "    </tr>\n",
       "    <tr>\n",
       "      <th>4</th>\n",
       "      <td>291265</td>\n",
       "      <td>332163</td>\n",
       "      <td>554</td>\n",
       "      <td>6/21/2012 18:53:00</td>\n",
       "      <td>47.0</td>\n",
       "      <td>6/21/2012 19:02:00</td>\n",
       "      <td>54.0</td>\n",
       "      <td>'02113</td>\n",
       "      <td>1986.0</td>\n",
       "      <td>Female</td>\n",
       "    </tr>\n",
       "  </tbody>\n",
       "</table>\n",
       "</div>"
      ],
      "text/plain": [
       "   Unnamed: 0  hubway_id  duration          start_date  strt_statn  \\\n",
       "0      426015     482077       675  8/18/2012 19:48:00         8.0   \n",
       "1      193080     220612       204  4/26/2012 18:14:00        31.0   \n",
       "2      530051     598721       888  9/23/2012 09:26:00        39.0   \n",
       "3      484594     547645       526   9/8/2012 12:55:00        88.0   \n",
       "4      291265     332163       554  6/21/2012 18:53:00        47.0   \n",
       "\n",
       "             end_date  end_statn zip_code  birth_date  gender  \n",
       "0  8/18/2012 20:00:00        8.0   '02134      1983.0    Male  \n",
       "1  4/26/2012 18:17:00       64.0   '02210      1953.0    Male  \n",
       "2  9/23/2012 09:41:00       39.0   '02118      1985.0    Male  \n",
       "3   9/8/2012 13:04:00       72.0   '02139      1985.0    Male  \n",
       "4  6/21/2012 19:02:00       54.0   '02113      1986.0  Female  "
      ]
     },
     "execution_count": 8,
     "metadata": {},
     "output_type": "execute_result"
    }
   ],
   "source": [
    "trips.head(5)"
   ]
  },
  {
   "cell_type": "markdown",
   "metadata": {},
   "source": [
    "#### Understanding the data "
   ]
  },
  {
   "cell_type": "code",
   "execution_count": 9,
   "metadata": {},
   "outputs": [
    {
     "data": {
      "text/plain": [
       "id             int64\n",
       "terminal      object\n",
       "station       object\n",
       "municipal     object\n",
       "lat          float64\n",
       "lng          float64\n",
       "status        object\n",
       "dtype: object"
      ]
     },
     "execution_count": 9,
     "metadata": {},
     "output_type": "execute_result"
    }
   ],
   "source": [
    "stations.dtypes"
   ]
  },
  {
   "cell_type": "code",
   "execution_count": 11,
   "metadata": {},
   "outputs": [
    {
     "data": {
      "text/plain": [
       "Unnamed: 0      int64\n",
       "hubway_id       int64\n",
       "duration        int64\n",
       "start_date     object\n",
       "strt_statn    float64\n",
       "end_date       object\n",
       "end_statn     float64\n",
       "zip_code       object\n",
       "birth_date    float64\n",
       "gender         object\n",
       "dtype: object"
      ]
     },
     "execution_count": 11,
     "metadata": {},
     "output_type": "execute_result"
    }
   ],
   "source": [
    "trips.dtypes"
   ]
  },
  {
   "cell_type": "markdown",
   "metadata": {},
   "source": [
    "#### Quesion 0: Dựa trên datatype, bạn có thấy gì bất thường ko ? \n",
    "\n",
    "##### Answer 0: Có \n",
    "    \n",
    "    * Station : \n",
    "        * status: Boolean \n",
    "        * \n",
    "    * Trips: \n",
    "        * start_date: Date \n",
    "        * end_date: Date\n",
    "        * zip_code: int \n",
    "        * birth_date: int \n",
    "        * gender: boolean"
   ]
  },
  {
   "cell_type": "code",
   "execution_count": 12,
   "metadata": {},
   "outputs": [
    {
     "data": {
      "text/html": [
       "<div>\n",
       "<style scoped>\n",
       "    .dataframe tbody tr th:only-of-type {\n",
       "        vertical-align: middle;\n",
       "    }\n",
       "\n",
       "    .dataframe tbody tr th {\n",
       "        vertical-align: top;\n",
       "    }\n",
       "\n",
       "    .dataframe thead th {\n",
       "        text-align: right;\n",
       "    }\n",
       "</style>\n",
       "<table border=\"1\" class=\"dataframe\">\n",
       "  <thead>\n",
       "    <tr style=\"text-align: right;\">\n",
       "      <th></th>\n",
       "      <th>id</th>\n",
       "      <th>lat</th>\n",
       "      <th>lng</th>\n",
       "    </tr>\n",
       "  </thead>\n",
       "  <tbody>\n",
       "    <tr>\n",
       "      <th>count</th>\n",
       "      <td>142.000000</td>\n",
       "      <td>142.000000</td>\n",
       "      <td>142.000000</td>\n",
       "    </tr>\n",
       "    <tr>\n",
       "      <th>mean</th>\n",
       "      <td>74.323944</td>\n",
       "      <td>42.354820</td>\n",
       "      <td>-71.089087</td>\n",
       "    </tr>\n",
       "    <tr>\n",
       "      <th>std</th>\n",
       "      <td>41.389098</td>\n",
       "      <td>0.020089</td>\n",
       "      <td>0.027111</td>\n",
       "    </tr>\n",
       "    <tr>\n",
       "      <th>min</th>\n",
       "      <td>3.000000</td>\n",
       "      <td>42.309467</td>\n",
       "      <td>-71.146452</td>\n",
       "    </tr>\n",
       "    <tr>\n",
       "      <th>25%</th>\n",
       "      <td>39.250000</td>\n",
       "      <td>42.341652</td>\n",
       "      <td>-71.113183</td>\n",
       "    </tr>\n",
       "    <tr>\n",
       "      <th>50%</th>\n",
       "      <td>74.500000</td>\n",
       "      <td>42.353373</td>\n",
       "      <td>-71.089191</td>\n",
       "    </tr>\n",
       "    <tr>\n",
       "      <th>75%</th>\n",
       "      <td>109.750000</td>\n",
       "      <td>42.366265</td>\n",
       "      <td>-71.065210</td>\n",
       "    </tr>\n",
       "    <tr>\n",
       "      <th>max</th>\n",
       "      <td>145.000000</td>\n",
       "      <td>42.404490</td>\n",
       "      <td>-71.035705</td>\n",
       "    </tr>\n",
       "  </tbody>\n",
       "</table>\n",
       "</div>"
      ],
      "text/plain": [
       "               id         lat         lng\n",
       "count  142.000000  142.000000  142.000000\n",
       "mean    74.323944   42.354820  -71.089087\n",
       "std     41.389098    0.020089    0.027111\n",
       "min      3.000000   42.309467  -71.146452\n",
       "25%     39.250000   42.341652  -71.113183\n",
       "50%     74.500000   42.353373  -71.089191\n",
       "75%    109.750000   42.366265  -71.065210\n",
       "max    145.000000   42.404490  -71.035705"
      ]
     },
     "execution_count": 12,
     "metadata": {},
     "output_type": "execute_result"
    }
   ],
   "source": [
    "stations.describe()"
   ]
  },
  {
   "cell_type": "code",
   "execution_count": 13,
   "metadata": {},
   "outputs": [
    {
     "data": {
      "text/html": [
       "<div>\n",
       "<style scoped>\n",
       "    .dataframe tbody tr th:only-of-type {\n",
       "        vertical-align: middle;\n",
       "    }\n",
       "\n",
       "    .dataframe tbody tr th {\n",
       "        vertical-align: top;\n",
       "    }\n",
       "\n",
       "    .dataframe thead th {\n",
       "        text-align: right;\n",
       "    }\n",
       "</style>\n",
       "<table border=\"1\" class=\"dataframe\">\n",
       "  <thead>\n",
       "    <tr style=\"text-align: right;\">\n",
       "      <th></th>\n",
       "      <th>Unnamed: 0</th>\n",
       "      <th>hubway_id</th>\n",
       "      <th>duration</th>\n",
       "      <th>strt_statn</th>\n",
       "      <th>end_statn</th>\n",
       "      <th>birth_date</th>\n",
       "    </tr>\n",
       "  </thead>\n",
       "  <tbody>\n",
       "    <tr>\n",
       "      <th>count</th>\n",
       "      <td>210239.000000</td>\n",
       "      <td>210239.000000</td>\n",
       "      <td>2.102390e+05</td>\n",
       "      <td>210239.000000</td>\n",
       "      <td>210239.000000</td>\n",
       "      <td>210239.000000</td>\n",
       "    </tr>\n",
       "    <tr>\n",
       "      <th>mean</th>\n",
       "      <td>283491.142771</td>\n",
       "      <td>321401.542806</td>\n",
       "      <td>7.794459e+02</td>\n",
       "      <td>36.727567</td>\n",
       "      <td>36.662261</td>\n",
       "      <td>1976.285594</td>\n",
       "    </tr>\n",
       "    <tr>\n",
       "      <th>std</th>\n",
       "      <td>153204.497985</td>\n",
       "      <td>173059.875974</td>\n",
       "      <td>1.349006e+04</td>\n",
       "      <td>18.592716</td>\n",
       "      <td>18.551934</td>\n",
       "      <td>11.002281</td>\n",
       "    </tr>\n",
       "    <tr>\n",
       "      <th>min</th>\n",
       "      <td>0.000000</td>\n",
       "      <td>8.000000</td>\n",
       "      <td>0.000000e+00</td>\n",
       "      <td>3.000000</td>\n",
       "      <td>3.000000</td>\n",
       "      <td>1932.000000</td>\n",
       "    </tr>\n",
       "    <tr>\n",
       "      <th>25%</th>\n",
       "      <td>153899.000000</td>\n",
       "      <td>174103.000000</td>\n",
       "      <td>3.460000e+02</td>\n",
       "      <td>22.000000</td>\n",
       "      <td>22.000000</td>\n",
       "      <td>1969.000000</td>\n",
       "    </tr>\n",
       "    <tr>\n",
       "      <th>50%</th>\n",
       "      <td>280081.000000</td>\n",
       "      <td>319856.000000</td>\n",
       "      <td>5.320000e+02</td>\n",
       "      <td>38.000000</td>\n",
       "      <td>38.000000</td>\n",
       "      <td>1979.000000</td>\n",
       "    </tr>\n",
       "    <tr>\n",
       "      <th>75%</th>\n",
       "      <td>414740.000000</td>\n",
       "      <td>469290.000000</td>\n",
       "      <td>8.280000e+02</td>\n",
       "      <td>50.000000</td>\n",
       "      <td>50.000000</td>\n",
       "      <td>1985.000000</td>\n",
       "    </tr>\n",
       "    <tr>\n",
       "      <th>max</th>\n",
       "      <td>549285.000000</td>\n",
       "      <td>620312.000000</td>\n",
       "      <td>5.351083e+06</td>\n",
       "      <td>98.000000</td>\n",
       "      <td>98.000000</td>\n",
       "      <td>1995.000000</td>\n",
       "    </tr>\n",
       "  </tbody>\n",
       "</table>\n",
       "</div>"
      ],
      "text/plain": [
       "          Unnamed: 0      hubway_id      duration     strt_statn  \\\n",
       "count  210239.000000  210239.000000  2.102390e+05  210239.000000   \n",
       "mean   283491.142771  321401.542806  7.794459e+02      36.727567   \n",
       "std    153204.497985  173059.875974  1.349006e+04      18.592716   \n",
       "min         0.000000       8.000000  0.000000e+00       3.000000   \n",
       "25%    153899.000000  174103.000000  3.460000e+02      22.000000   \n",
       "50%    280081.000000  319856.000000  5.320000e+02      38.000000   \n",
       "75%    414740.000000  469290.000000  8.280000e+02      50.000000   \n",
       "max    549285.000000  620312.000000  5.351083e+06      98.000000   \n",
       "\n",
       "           end_statn     birth_date  \n",
       "count  210239.000000  210239.000000  \n",
       "mean       36.662261    1976.285594  \n",
       "std        18.551934      11.002281  \n",
       "min         3.000000    1932.000000  \n",
       "25%        22.000000    1969.000000  \n",
       "50%        38.000000    1979.000000  \n",
       "75%        50.000000    1985.000000  \n",
       "max        98.000000    1995.000000  "
      ]
     },
     "execution_count": 13,
     "metadata": {},
     "output_type": "execute_result"
    }
   ],
   "source": [
    "trips.describe() "
   ]
  },
  {
   "cell_type": "markdown",
   "metadata": {},
   "source": [
    "#### Question 1: Dựa trên hiểu biết của bạn về data. Câu hỏi nào bạn muốn được trả lời nhất ? \n",
    "##### Answer 1: \n",
    "    * Trung bình lượt mượn lại các trạm? Trạm nào đông nhất? Trạm nào ít nhất ? Một vài lí do tại sao ? \n",
    "    * Thường nam hay nữ đap nhiều hơn? Độ tuổi trung bình là bao nhiêu ? \n",
    "    * Họ thường đạp vào khoảng thời gian nào ? Vào thời gian đấy thì thường là đạp thể dục hay đạp có việc ? \n",
    "    * Quãng đường di chuyển trung bình là bao nhiêu ? \n",
    "    * Tỉ lệ lượt mượn lại của một người như thế nào ? \n",
    "    ........"
   ]
  },
  {
   "cell_type": "markdown",
   "metadata": {},
   "source": [
    "#### Data Pre-Processing "
   ]
  },
  {
   "cell_type": "code",
   "execution_count": 15,
   "metadata": {},
   "outputs": [],
   "source": [
    "## Loại bỏ các hàng có phần tử trống \n",
    "stations.dropna(axis = 0, inplace = True) \n",
    "trips.dropna(axis = 0, inplace = True) \n"
   ]
  },
  {
   "cell_type": "code",
   "execution_count": 18,
   "metadata": {},
   "outputs": [
    {
     "data": {
      "text/html": [
       "<div>\n",
       "<style scoped>\n",
       "    .dataframe tbody tr th:only-of-type {\n",
       "        vertical-align: middle;\n",
       "    }\n",
       "\n",
       "    .dataframe tbody tr th {\n",
       "        vertical-align: top;\n",
       "    }\n",
       "\n",
       "    .dataframe thead th {\n",
       "        text-align: right;\n",
       "    }\n",
       "</style>\n",
       "<table border=\"1\" class=\"dataframe\">\n",
       "  <thead>\n",
       "    <tr style=\"text-align: right;\">\n",
       "      <th></th>\n",
       "      <th>Unnamed: 0</th>\n",
       "      <th>hubway_id</th>\n",
       "      <th>duration</th>\n",
       "      <th>start_date</th>\n",
       "      <th>strt_statn</th>\n",
       "      <th>end_date</th>\n",
       "      <th>end_statn</th>\n",
       "      <th>zip_code</th>\n",
       "      <th>gender</th>\n",
       "      <th>age</th>\n",
       "    </tr>\n",
       "  </thead>\n",
       "  <tbody>\n",
       "    <tr>\n",
       "      <th>0</th>\n",
       "      <td>426015</td>\n",
       "      <td>482077</td>\n",
       "      <td>675</td>\n",
       "      <td>8/18/2012 19:48:00</td>\n",
       "      <td>8.0</td>\n",
       "      <td>8/18/2012 20:00:00</td>\n",
       "      <td>8.0</td>\n",
       "      <td>'02134</td>\n",
       "      <td>Male</td>\n",
       "      <td>40.0</td>\n",
       "    </tr>\n",
       "    <tr>\n",
       "      <th>1</th>\n",
       "      <td>193080</td>\n",
       "      <td>220612</td>\n",
       "      <td>204</td>\n",
       "      <td>4/26/2012 18:14:00</td>\n",
       "      <td>31.0</td>\n",
       "      <td>4/26/2012 18:17:00</td>\n",
       "      <td>64.0</td>\n",
       "      <td>'02210</td>\n",
       "      <td>Male</td>\n",
       "      <td>70.0</td>\n",
       "    </tr>\n",
       "    <tr>\n",
       "      <th>2</th>\n",
       "      <td>530051</td>\n",
       "      <td>598721</td>\n",
       "      <td>888</td>\n",
       "      <td>9/23/2012 09:26:00</td>\n",
       "      <td>39.0</td>\n",
       "      <td>9/23/2012 09:41:00</td>\n",
       "      <td>39.0</td>\n",
       "      <td>'02118</td>\n",
       "      <td>Male</td>\n",
       "      <td>38.0</td>\n",
       "    </tr>\n",
       "    <tr>\n",
       "      <th>3</th>\n",
       "      <td>484594</td>\n",
       "      <td>547645</td>\n",
       "      <td>526</td>\n",
       "      <td>9/8/2012 12:55:00</td>\n",
       "      <td>88.0</td>\n",
       "      <td>9/8/2012 13:04:00</td>\n",
       "      <td>72.0</td>\n",
       "      <td>'02139</td>\n",
       "      <td>Male</td>\n",
       "      <td>38.0</td>\n",
       "    </tr>\n",
       "    <tr>\n",
       "      <th>4</th>\n",
       "      <td>291265</td>\n",
       "      <td>332163</td>\n",
       "      <td>554</td>\n",
       "      <td>6/21/2012 18:53:00</td>\n",
       "      <td>47.0</td>\n",
       "      <td>6/21/2012 19:02:00</td>\n",
       "      <td>54.0</td>\n",
       "      <td>'02113</td>\n",
       "      <td>Female</td>\n",
       "      <td>37.0</td>\n",
       "    </tr>\n",
       "  </tbody>\n",
       "</table>\n",
       "</div>"
      ],
      "text/plain": [
       "   Unnamed: 0  hubway_id  duration          start_date  strt_statn  \\\n",
       "0      426015     482077       675  8/18/2012 19:48:00         8.0   \n",
       "1      193080     220612       204  4/26/2012 18:14:00        31.0   \n",
       "2      530051     598721       888  9/23/2012 09:26:00        39.0   \n",
       "3      484594     547645       526   9/8/2012 12:55:00        88.0   \n",
       "4      291265     332163       554  6/21/2012 18:53:00        47.0   \n",
       "\n",
       "             end_date  end_statn zip_code  gender   age  \n",
       "0  8/18/2012 20:00:00        8.0   '02134    Male  40.0  \n",
       "1  4/26/2012 18:17:00       64.0   '02210    Male  70.0  \n",
       "2  9/23/2012 09:41:00       39.0   '02118    Male  38.0  \n",
       "3   9/8/2012 13:04:00       72.0   '02139    Male  38.0  \n",
       "4  6/21/2012 19:02:00       54.0   '02113  Female  37.0  "
      ]
     },
     "execution_count": 18,
     "metadata": {},
     "output_type": "execute_result"
    }
   ],
   "source": [
    "## Tạo một cột - AGE  \n",
    "trips['age'] = 2023.0 - trips['birth_date'].values\n",
    "trips.drop('birth_date',axis = 1 , inplace= True)\n",
    "trips.head()"
   ]
  },
  {
   "cell_type": "markdown",
   "metadata": {},
   "source": [
    "#### EDA - Exploratory Data Analyst"
   ]
  },
  {
   "cell_type": "markdown",
   "metadata": {},
   "source": [
    "Nhưng thông tin ở trên không đủ để trích xuất thông tin cũng như đặt ra nhưng câu hỏi đầy đủ để khai thác được thông tin -> vì thế chúng ta cần EDA \n"
   ]
  },
  {
   "cell_type": "code",
   "execution_count": 19,
   "metadata": {},
   "outputs": [
    {
     "data": {
      "text/plain": [
       "[]"
      ]
     },
     "execution_count": 19,
     "metadata": {},
     "output_type": "execute_result"
    },
    {
     "data": {
      "image/png": "[encoded data removed]",
      "text/plain": [
       "<Figure size 750x750 with 12 Axes>"
      ]
     },
     "metadata": {},
     "output_type": "display_data"
    }
   ],
   "source": [
    "sns.pairplot(stations)\n",
    "plt.plot()"
   ]
  },
  {
   "cell_type": "markdown",
   "metadata": {},
   "source": [
    "#### Question 2: Dựa trên biểu đồ trên, bạn có nhận thấy mối quan hệ dễ nhận thấy giữa bất kỳ cột nào ko ? \n",
    "    A. Lat và Long tỷ lệ thuận với nhau \n",
    "    B. Lat và Long tỷ lệ nghịch với nhau \n",
    "    C. Không có mối liên quan \n",
    "\n",
    "##### Answer 2: C  - nhìn vào hình (2,3) và hình (3,2) để thấy "
   ]
  },
  {
   "cell_type": "code",
   "execution_count": 30,
   "metadata": {},
   "outputs": [
    {
     "data": {
      "image/png": "[encoded data removed]",
      "text/plain": [
       "<Figure size 640x480 with 1 Axes>"
      ]
     },
     "metadata": {},
     "output_type": "display_data"
    }
   ],
   "source": [
    "## Số lượng nam và nữ đạp xe ?? \n",
    "\n",
    "gender_count = trips['gender'].value_counts().plot(kind = 'barh',color=['#e4a199', 'lightgreen'])"
   ]
  },
  {
   "cell_type": "markdown",
   "metadata": {},
   "source": [
    "#### Question 3: Dựa vào biểu đồ trên thì nam hay nữ mượn xe nhiều hơn \n",
    "##### Answer 3: Nam"
   ]
  },
  {
   "cell_type": "code",
   "execution_count": 79,
   "metadata": {},
   "outputs": [
    {
     "data": {
      "image/png": "[encoded data removed]",
      "text/plain": [
       "<Figure size 1000x600 with 2 Axes>"
      ]
     },
     "metadata": {},
     "output_type": "display_data"
    }
   ],
   "source": [
    "fig, (ax1, ax2) = plt.subplots(2, 1, sharex=True, figsize=(10, 6))\n",
    "ax1.hist(trips['age'], bins=160)\n",
    "ax1.axvline(x=np.median(trips['age']), color='red', label=\"Median\")\n",
    "ax1.axvline(x=np.percentile(trips['age'],25), color='red', label=\"Lower Quartile\",linestyle ='--')\n",
    "ax1.axvline(x=np.percentile(trips['age'],75), color='red', label=\"Upper Quartile\",linestyle = '--')\n",
    "ax1.legend()\n",
    "\n",
    "ax2 = trips['age'].plot(kind='box', vert=False, color='blue')\n",
    "plt.show()\n",
    "\n",
    "\n",
    "\n",
    "\n",
    "\n"
   ]
  },
  {
   "cell_type": "markdown",
   "metadata": {},
   "source": [
    "#### Question 4: Dựa trên biểu đồ trên, ai là người sử dụng xe đạp nhiều hơn ? \n",
    "A. Người già \n",
    "\n",
    "B. Người trẻ \n",
    "##### Answer 4: B. Người trẻ "
   ]
  },
  {
   "cell_type": "code",
   "execution_count": 94,
   "metadata": {},
   "outputs": [
    {
     "data": {
      "image/png": "[encoded data removed]",
      "text/plain": [
       "<Figure size 640x480 with 1 Axes>"
      ]
     },
     "metadata": {},
     "output_type": "display_data"
    }
   ],
   "source": [
    "k_out_hours = trips['start_date'].apply(lambda s: int(s[-8:-6])) \n",
    "plt.hist(k_out_hours,bins = 48,color='lightgreen') \n",
    "plt.xticks(range(0,25,2))\n",
    "plt.show()"
   ]
  },
  {
   "cell_type": "markdown",
   "metadata": {},
   "source": [
    "#### Question 5: Người ta thường đạp xe vào giờ nào ?? \n",
    "##### Answer 5: Tầm 16h - 18h"
   ]
  },
  {
   "cell_type": "markdown",
   "metadata": {},
   "source": [
    "#### More question ???? \n",
    "\n",
    "    * Vì lí do gì xe đạp được sử dụng ?? Giải trí ,Giao thông hay Sức Khỏe ?? \n",
    "    * Xe đạp thường đc sử dụng vào ngày nào trong tuần ??? \n",
    "    * Theo từng thành phố - thành phố nào sử dụng xe đạp nhiều nhất ???  "
   ]
  },
  {
   "cell_type": "markdown",
   "metadata": {},
   "source": [
    "----------------------------------------------------------------"
   ]
  },
  {
   "cell_type": "markdown",
   "metadata": {},
   "source": [
    "### Data Modelling "
   ]
  },
  {
   "cell_type": "markdown",
   "metadata": {},
   "source": [
    "Một số câu hỏi ko thể trả lời bằng các vẽ đồ thị mà phải kết hợp nhiều biến với nhau \n",
    "\n",
    "VD: \n",
    "\n",
    "    * Nhân khẩu học của người dùng ảnh hưởng thế nào đến thời gian sử dụng xe ?? \n",
    "\n",
    "    * Điều kiện thời tiết hoặc giao thông ảnh hường đến việc đạp xe như nào ??? \n",
    "    \n",
    "    * Đặc điểm của vị trí nhà ga ảnh hưởng đến số lượng xe đạp được sử dụng ko ?? "
   ]
  },
  {
   "cell_type": "markdown",
   "metadata": {},
   "source": [
    "_Thử trả lời câu hỏi : Khoảng cách nhà ga và việc sử dụng xe đạp ảnh hưởng đến nhau ntn ??_"
   ]
  },
  {
   "cell_type": "code",
   "execution_count": 163,
   "metadata": {},
   "outputs": [
    {
     "data": {
      "text/plain": [
       "Boston        97\n",
       "Cambridge     28\n",
       "Somerville    12\n",
       "Brookline      5\n",
       "Name: municipal, dtype: int64"
      ]
     },
     "execution_count": 163,
     "metadata": {},
     "output_type": "execute_result"
    }
   ],
   "source": [
    "stations['municipal'].value_counts()"
   ]
  },
  {
   "cell_type": "code",
   "execution_count": 195,
   "metadata": {},
   "outputs": [],
   "source": [
    "\n",
    "def haversine(pt):\n",
    "\n",
    "    \"\"\"\n",
    "    Tính khoảng cách từ 1 điểm (lon1,lat1) đến điểm trung tâm (lon2,lat2)\n",
    "    \n",
    "    \"\"\"\n",
    "    location = {} \n",
    "    location['Boston'] = [42.355589,-71.060175]\n",
    "    location['Cambridge'] = [52.205276,0.119167]\n",
    "    location['Somerville'] = [42.387597,-71.099497]\n",
    "    location['Brookline'] = [42.407211,-71.382439]\n",
    "\n",
    "    lat2 =  location['Boston'][0]\n",
    "    lon2 =  location['Boston'][1]\n",
    "    lon1 = pt['lng'] \n",
    "    lat1 = pt['lat'] \n",
    "    \n",
    "\n",
    "    lon1,lat1,lon2,lat2 = map(radians,[lon1,lat1,lon2,lat2])\n",
    "\n",
    "    dlon = lon2 - lon1 \n",
    "    dlat = lat2 - lat1 \n",
    "\n",
    "    a = sin(dlat / 2) ** 2 + cos(lat1) * cos(lat2) * sin(dlon / 2) ** 2\n",
    "    c = 2 * asin(sqrt(a))\n",
    "    r = 3956  # Radius of earth in miles\n",
    "    return c * r"
   ]
  },
  {
   "cell_type": "code",
   "execution_count": 182,
   "metadata": {},
   "outputs": [],
   "source": [
    "stations_count = trips['strt_statn'].value_counts()\n",
    "stations['Number of checkout'] = np.zeros(len(stations))\n",
    "for i in stations_count.keys():\n",
    "    stations.loc[stations['id'] == i,'Number of checkout'] = stations_count[i]"
   ]
  },
  {
   "cell_type": "code",
   "execution_count": 196,
   "metadata": {},
   "outputs": [],
   "source": [
    "stations['distance'] = stations.apply(haversine,axis = 1)"
   ]
  },
  {
   "cell_type": "code",
   "execution_count": 185,
   "metadata": {},
   "outputs": [
    {
     "data": {
      "text/html": [
       "<div>\n",
       "<style scoped>\n",
       "    .dataframe tbody tr th:only-of-type {\n",
       "        vertical-align: middle;\n",
       "    }\n",
       "\n",
       "    .dataframe tbody tr th {\n",
       "        vertical-align: top;\n",
       "    }\n",
       "\n",
       "    .dataframe thead th {\n",
       "        text-align: right;\n",
       "    }\n",
       "</style>\n",
       "<table border=\"1\" class=\"dataframe\">\n",
       "  <thead>\n",
       "    <tr style=\"text-align: right;\">\n",
       "      <th></th>\n",
       "      <th>id</th>\n",
       "      <th>terminal</th>\n",
       "      <th>station</th>\n",
       "      <th>municipal</th>\n",
       "      <th>lat</th>\n",
       "      <th>lng</th>\n",
       "      <th>status</th>\n",
       "      <th>Number of checkout</th>\n",
       "      <th>distance</th>\n",
       "    </tr>\n",
       "  </thead>\n",
       "  <tbody>\n",
       "    <tr>\n",
       "      <th>0</th>\n",
       "      <td>3</td>\n",
       "      <td>B32006</td>\n",
       "      <td>Colleges of the Fenway</td>\n",
       "      <td>Boston</td>\n",
       "      <td>42.340021</td>\n",
       "      <td>-71.100812</td>\n",
       "      <td>Existing</td>\n",
       "      <td>1878.0</td>\n",
       "      <td>2.335706</td>\n",
       "    </tr>\n",
       "    <tr>\n",
       "      <th>1</th>\n",
       "      <td>4</td>\n",
       "      <td>C32000</td>\n",
       "      <td>Tremont St. at Berkeley St.</td>\n",
       "      <td>Boston</td>\n",
       "      <td>42.345392</td>\n",
       "      <td>-71.069616</td>\n",
       "      <td>Existing</td>\n",
       "      <td>3376.0</td>\n",
       "      <td>0.853095</td>\n",
       "    </tr>\n",
       "    <tr>\n",
       "      <th>2</th>\n",
       "      <td>5</td>\n",
       "      <td>B32012</td>\n",
       "      <td>Northeastern U / North Parking Lot</td>\n",
       "      <td>Boston</td>\n",
       "      <td>42.341814</td>\n",
       "      <td>-71.090179</td>\n",
       "      <td>Existing</td>\n",
       "      <td>1913.0</td>\n",
       "      <td>1.802423</td>\n",
       "    </tr>\n",
       "    <tr>\n",
       "      <th>3</th>\n",
       "      <td>6</td>\n",
       "      <td>D32000</td>\n",
       "      <td>Cambridge St. at Joy St.</td>\n",
       "      <td>Boston</td>\n",
       "      <td>42.361285</td>\n",
       "      <td>-71.065140</td>\n",
       "      <td>Existing</td>\n",
       "      <td>3616.0</td>\n",
       "      <td>0.467803</td>\n",
       "    </tr>\n",
       "    <tr>\n",
       "      <th>4</th>\n",
       "      <td>7</td>\n",
       "      <td>A32000</td>\n",
       "      <td>Fan Pier</td>\n",
       "      <td>Boston</td>\n",
       "      <td>42.353412</td>\n",
       "      <td>-71.044624</td>\n",
       "      <td>Existing</td>\n",
       "      <td>1384.0</td>\n",
       "      <td>0.807582</td>\n",
       "    </tr>\n",
       "  </tbody>\n",
       "</table>\n",
       "</div>"
      ],
      "text/plain": [
       "   id terminal                             station municipal        lat  \\\n",
       "0   3   B32006              Colleges of the Fenway    Boston  42.340021   \n",
       "1   4   C32000         Tremont St. at Berkeley St.    Boston  42.345392   \n",
       "2   5   B32012  Northeastern U / North Parking Lot    Boston  42.341814   \n",
       "3   6   D32000            Cambridge St. at Joy St.    Boston  42.361285   \n",
       "4   7   A32000                            Fan Pier    Boston  42.353412   \n",
       "\n",
       "         lng    status  Number of checkout  distance  \n",
       "0 -71.100812  Existing              1878.0  2.335706  \n",
       "1 -71.069616  Existing              3376.0  0.853095  \n",
       "2 -71.090179  Existing              1913.0  1.802423  \n",
       "3 -71.065140  Existing              3616.0  0.467803  \n",
       "4 -71.044624  Existing              1384.0  0.807582  "
      ]
     },
     "execution_count": 185,
     "metadata": {},
     "output_type": "execute_result"
    }
   ],
   "source": [
    "stations.head(5)"
   ]
  },
  {
   "cell_type": "code",
   "execution_count": 198,
   "metadata": {},
   "outputs": [
    {
     "data": {
      "text/plain": [
       "<matplotlib.collections.PathCollection at 0x2635dea3b10>"
      ]
     },
     "execution_count": 198,
     "metadata": {},
     "output_type": "execute_result"
    },
    {
     "data": {
      "image/png": "[encoded data removed]",
      "text/plain": [
       "<Figure size 640x480 with 1 Axes>"
      ]
     },
     "metadata": {},
     "output_type": "display_data"
    }
   ],
   "source": [
    "plt.scatter(stations['distance'],stations['Number of checkout'])"
   ]
  },
  {
   "cell_type": "code",
   "execution_count": 201,
   "metadata": {},
   "outputs": [
    {
     "data": {
      "text/html": [
       "<style>#sk-container-id-2 {color: black;background-color: white;}#sk-container-id-2 pre{padding: 0;}#sk-container-id-2 div.sk-toggleable {background-color: white;}#sk-container-id-2 label.sk-toggleable__label {cursor: pointer;display: block;width: 100%;margin-bottom: 0;padding: 0.3em;box-sizing: border-box;text-align: center;}#sk-container-id-2 label.sk-toggleable__label-arrow:before {content: \"▸\";float: left;margin-right: 0.25em;color: #696969;}#sk-container-id-2 label.sk-toggleable__label-arrow:hover:before {color: black;}#sk-container-id-2 div.sk-estimator:hover label.sk-toggleable__label-arrow:before {color: black;}#sk-container-id-2 div.sk-toggleable__content {max-height: 0;max-width: 0;overflow: hidden;text-align: left;background-color: #f0f8ff;}#sk-container-id-2 div.sk-toggleable__content pre {margin: 0.2em;color: black;border-radius: 0.25em;background-color: #f0f8ff;}#sk-container-id-2 input.sk-toggleable__control:checked~div.sk-toggleable__content {max-height: 200px;max-width: 100%;overflow: auto;}#sk-container-id-2 input.sk-toggleable__control:checked~label.sk-toggleable__label-arrow:before {content: \"▾\";}#sk-container-id-2 div.sk-estimator input.sk-toggleable__control:checked~label.sk-toggleable__label {background-color: #d4ebff;}#sk-container-id-2 div.sk-label input.sk-toggleable__control:checked~label.sk-toggleable__label {background-color: #d4ebff;}#sk-container-id-2 input.sk-hidden--visually {border: 0;clip: rect(1px 1px 1px 1px);clip: rect(1px, 1px, 1px, 1px);height: 1px;margin: -1px;overflow: hidden;padding: 0;position: absolute;width: 1px;}#sk-container-id-2 div.sk-estimator {font-family: monospace;background-color: #f0f8ff;border: 1px dotted black;border-radius: 0.25em;box-sizing: border-box;margin-bottom: 0.5em;}#sk-container-id-2 div.sk-estimator:hover {background-color: #d4ebff;}#sk-container-id-2 div.sk-parallel-item::after {content: \"\";width: 100%;border-bottom: 1px solid gray;flex-grow: 1;}#sk-container-id-2 div.sk-label:hover label.sk-toggleable__label {background-color: #d4ebff;}#sk-container-id-2 div.sk-serial::before {content: \"\";position: absolute;border-left: 1px solid gray;box-sizing: border-box;top: 0;bottom: 0;left: 50%;z-index: 0;}#sk-container-id-2 div.sk-serial {display: flex;flex-direction: column;align-items: center;background-color: white;padding-right: 0.2em;padding-left: 0.2em;position: relative;}#sk-container-id-2 div.sk-item {position: relative;z-index: 1;}#sk-container-id-2 div.sk-parallel {display: flex;align-items: stretch;justify-content: center;background-color: white;position: relative;}#sk-container-id-2 div.sk-item::before, #sk-container-id-2 div.sk-parallel-item::before {content: \"\";position: absolute;border-left: 1px solid gray;box-sizing: border-box;top: 0;bottom: 0;left: 50%;z-index: -1;}#sk-container-id-2 div.sk-parallel-item {display: flex;flex-direction: column;z-index: 1;position: relative;background-color: white;}#sk-container-id-2 div.sk-parallel-item:first-child::after {align-self: flex-end;width: 50%;}#sk-container-id-2 div.sk-parallel-item:last-child::after {align-self: flex-start;width: 50%;}#sk-container-id-2 div.sk-parallel-item:only-child::after {width: 0;}#sk-container-id-2 div.sk-dashed-wrapped {border: 1px dashed gray;margin: 0 0.4em 0.5em 0.4em;box-sizing: border-box;padding-bottom: 0.4em;background-color: white;}#sk-container-id-2 div.sk-label label {font-family: monospace;font-weight: bold;display: inline-block;line-height: 1.2em;}#sk-container-id-2 div.sk-label-container {text-align: center;}#sk-container-id-2 div.sk-container {/* jupyter's `normalize.less` sets `[hidden] { display: none; }` but bootstrap.min.css set `[hidden] { display: none !important; }` so we also need the `!important` here to be able to override the default hidden behavior on the sphinx rendered scikit-learn.org. See: https://github.com/scikit-learn/scikit-learn/issues/21755 */display: inline-block !important;position: relative;}#sk-container-id-2 div.sk-text-repr-fallback {display: none;}</style><div id=\"sk-container-id-2\" class=\"sk-top-container\"><div class=\"sk-text-repr-fallback\"><pre>LinearRegression()</pre><b>In a Jupyter environment, please rerun this cell to show the HTML representation or trust the notebook. <br />On GitHub, the HTML representation is unable to render, please try loading this page with nbviewer.org.</b></div><div class=\"sk-container\" hidden><div class=\"sk-item\"><div class=\"sk-estimator sk-toggleable\"><input class=\"sk-toggleable__control sk-hidden--visually\" id=\"sk-estimator-id-2\" type=\"checkbox\" checked><label for=\"sk-estimator-id-2\" class=\"sk-toggleable__label sk-toggleable__label-arrow\">LinearRegression</label><div class=\"sk-toggleable__content\"><pre>LinearRegression()</pre></div></div></div></div></div>"
      ],
      "text/plain": [
       "LinearRegression()"
      ]
     },
     "execution_count": 201,
     "metadata": {},
     "output_type": "execute_result"
    }
   ],
   "source": [
    "from sklearn.linear_model import LinearRegression \n",
    "\n",
    "\n",
    "clf = LinearRegression()\n",
    "X = np.array(stations['distance']).reshape(-1, 1)\n",
    "y = stations['Number of checkout']\n",
    "clf.fit(X, y)"
   ]
  },
  {
   "cell_type": "code",
   "execution_count": 204,
   "metadata": {},
   "outputs": [
    {
     "data": {
      "text/plain": [
       "Text(0.5, 0, 'Distance')"
      ]
     },
     "execution_count": 204,
     "metadata": {},
     "output_type": "execute_result"
    },
    {
     "data": {
      "image/png": "[encoded data removed]",
      "text/plain": [
       "<Figure size 640x480 with 1 Axes>"
      ]
     },
     "metadata": {},
     "output_type": "display_data"
    }
   ],
   "source": [
    "y_pred = clf.coef_*stations['distance'] + clf.intercept_ \n",
    "plt.scatter(stations['distance'],stations['Number of checkout'])\n",
    "plt.plot(stations['distance'],y_pred,color = 'red')\n",
    "plt.ylabel(\"Number of checkout\")\n",
    "plt.xlabel(\"Distance\")"
   ]
  },
  {
   "cell_type": "markdown",
   "metadata": {},
   "source": [
    "#### Question 6: Dựa vào Linear model trên hãy cho biết dự đoán số lượng checkout cho khoảng các 2.5 so với trung tâm là bn ? "
   ]
  },
  {
   "cell_type": "code",
   "execution_count": 205,
   "metadata": {},
   "outputs": [
    {
     "name": "stdout",
     "output_type": "stream",
     "text": [
      "Result:  [1152.15660495]\n"
     ]
    }
   ],
   "source": [
    "result = clf.coef_*2.5 + clf.intercept_\n",
    "print('Result: ',result)"
   ]
  },
  {
   "cell_type": "code",
   "execution_count": null,
   "metadata": {},
   "outputs": [],
   "source": []
  }
 ],
 "metadata": {
  "kernelspec": {
   "display_name": "Python 3",
   "language": "python",
   "name": "python3"
  },
  "language_info": {
   "codemirror_mode": {
    "name": "ipython",
    "version": 3
   },
   "file_extension": ".py",
   "mimetype": "text/x-python",
   "name": "python",
   "nbconvert_exporter": "python",
   "pygments_lexer": "ipython3",
   "version": "3.11.1"
  },
  "orig_nbformat": 4
 },
 "nbformat": 4,
 "nbformat_minor": 2
}
